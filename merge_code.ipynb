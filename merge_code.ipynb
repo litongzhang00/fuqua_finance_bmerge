{
 "cells": [
  {
   "cell_type": "markdown",
   "metadata": {},
   "source": [
    "# Load the required modules and convert the data"
   ]
  },
  {
   "cell_type": "code",
   "execution_count": 1,
   "metadata": {},
   "outputs": [],
   "source": [
    "import pandas as pd \n",
    "import numpy as np\n",
    "ISS=pd.read_csv(\"ISS.csv\")"
   ]
  },
  {
   "cell_type": "code",
   "execution_count": 2,
   "metadata": {},
   "outputs": [
    {
     "data": {
      "text/html": [
       "<div>\n",
       "<style scoped>\n",
       "    .dataframe tbody tr th:only-of-type {\n",
       "        vertical-align: middle;\n",
       "    }\n",
       "\n",
       "    .dataframe tbody tr th {\n",
       "        vertical-align: top;\n",
       "    }\n",
       "\n",
       "    .dataframe thead th {\n",
       "        text-align: right;\n",
       "    }\n",
       "</style>\n",
       "<table border=\"1\" class=\"dataframe\">\n",
       "  <thead>\n",
       "    <tr style=\"text-align: right;\">\n",
       "      <th></th>\n",
       "      <th>Unnamed: 0</th>\n",
       "      <th>CompanyID</th>\n",
       "      <th>Name</th>\n",
       "      <th>CountryOfInc</th>\n",
       "      <th>ticker</th>\n",
       "      <th>CUSIP</th>\n",
       "      <th>MeetingID</th>\n",
       "      <th>MeetingType</th>\n",
       "      <th>Recorddate</th>\n",
       "      <th>sponsor</th>\n",
       "      <th>...</th>\n",
       "      <th>VotesForAsSharesOut</th>\n",
       "      <th>VotesForAsVotesCast</th>\n",
       "      <th>VotesForAsYesNo</th>\n",
       "      <th>ProposalText</th>\n",
       "      <th>WithholdNotes</th>\n",
       "      <th>ProponentStatementOnProposal</th>\n",
       "      <th>year</th>\n",
       "      <th>month</th>\n",
       "      <th>day</th>\n",
       "      <th>_merge</th>\n",
       "    </tr>\n",
       "  </thead>\n",
       "  <tbody>\n",
       "    <tr>\n",
       "      <th>0</th>\n",
       "      <td>0</td>\n",
       "      <td>656080.0</td>\n",
       "      <td>ADT, Inc.</td>\n",
       "      <td>USA</td>\n",
       "      <td>ADT</td>\n",
       "      <td>00090Q103</td>\n",
       "      <td>1259397.0</td>\n",
       "      <td>Annual</td>\n",
       "      <td>2018-07-31</td>\n",
       "      <td>Management</td>\n",
       "      <td>...</td>\n",
       "      <td>NaN</td>\n",
       "      <td>NaN</td>\n",
       "      <td>NaN</td>\n",
       "      <td>NaN</td>\n",
       "      <td>NaN</td>\n",
       "      <td>NaN</td>\n",
       "      <td>NaN</td>\n",
       "      <td>NaN</td>\n",
       "      <td>NaN</td>\n",
       "      <td>matched (3)</td>\n",
       "    </tr>\n",
       "    <tr>\n",
       "      <th>1</th>\n",
       "      <td>1</td>\n",
       "      <td>656080.0</td>\n",
       "      <td>ADT, Inc.</td>\n",
       "      <td>USA</td>\n",
       "      <td>ADT</td>\n",
       "      <td>00090Q103</td>\n",
       "      <td>1259397.0</td>\n",
       "      <td>Annual</td>\n",
       "      <td>2018-07-31</td>\n",
       "      <td>Management</td>\n",
       "      <td>...</td>\n",
       "      <td>NaN</td>\n",
       "      <td>NaN</td>\n",
       "      <td>NaN</td>\n",
       "      <td>NaN</td>\n",
       "      <td>NaN</td>\n",
       "      <td>NaN</td>\n",
       "      <td>NaN</td>\n",
       "      <td>NaN</td>\n",
       "      <td>NaN</td>\n",
       "      <td>matched (3)</td>\n",
       "    </tr>\n",
       "    <tr>\n",
       "      <th>2</th>\n",
       "      <td>2</td>\n",
       "      <td>606729.0</td>\n",
       "      <td>AG Mortgage Investment Trust, Inc.</td>\n",
       "      <td>USA</td>\n",
       "      <td>MITT</td>\n",
       "      <td>001228105</td>\n",
       "      <td>1213752.0</td>\n",
       "      <td>Annual</td>\n",
       "      <td>2018-03-07</td>\n",
       "      <td>Management</td>\n",
       "      <td>...</td>\n",
       "      <td>NaN</td>\n",
       "      <td>NaN</td>\n",
       "      <td>NaN</td>\n",
       "      <td>NaN</td>\n",
       "      <td>NaN</td>\n",
       "      <td>NaN</td>\n",
       "      <td>NaN</td>\n",
       "      <td>NaN</td>\n",
       "      <td>NaN</td>\n",
       "      <td>matched (3)</td>\n",
       "    </tr>\n",
       "    <tr>\n",
       "      <th>3</th>\n",
       "      <td>3</td>\n",
       "      <td>606729.0</td>\n",
       "      <td>AG Mortgage Investment Trust, Inc.</td>\n",
       "      <td>USA</td>\n",
       "      <td>MITT</td>\n",
       "      <td>001228105</td>\n",
       "      <td>1213752.0</td>\n",
       "      <td>Annual</td>\n",
       "      <td>2018-03-07</td>\n",
       "      <td>Management</td>\n",
       "      <td>...</td>\n",
       "      <td>NaN</td>\n",
       "      <td>NaN</td>\n",
       "      <td>NaN</td>\n",
       "      <td>NaN</td>\n",
       "      <td>NaN</td>\n",
       "      <td>NaN</td>\n",
       "      <td>NaN</td>\n",
       "      <td>NaN</td>\n",
       "      <td>NaN</td>\n",
       "      <td>matched (3)</td>\n",
       "    </tr>\n",
       "    <tr>\n",
       "      <th>4</th>\n",
       "      <td>4</td>\n",
       "      <td>606476.0</td>\n",
       "      <td>AMC Networks, Inc.</td>\n",
       "      <td>USA</td>\n",
       "      <td>AMCX</td>\n",
       "      <td>00164V103</td>\n",
       "      <td>1233374.0</td>\n",
       "      <td>Annual</td>\n",
       "      <td>2018-04-17</td>\n",
       "      <td>Management</td>\n",
       "      <td>...</td>\n",
       "      <td>NaN</td>\n",
       "      <td>NaN</td>\n",
       "      <td>NaN</td>\n",
       "      <td>NaN</td>\n",
       "      <td>NaN</td>\n",
       "      <td>NaN</td>\n",
       "      <td>NaN</td>\n",
       "      <td>NaN</td>\n",
       "      <td>NaN</td>\n",
       "      <td>matched (3)</td>\n",
       "    </tr>\n",
       "  </tbody>\n",
       "</table>\n",
       "<p>5 rows × 54 columns</p>\n",
       "</div>"
      ],
      "text/plain": [
       "   Unnamed: 0  CompanyID                                Name CountryOfInc  \\\n",
       "0           0   656080.0                           ADT, Inc.          USA   \n",
       "1           1   656080.0                           ADT, Inc.          USA   \n",
       "2           2   606729.0  AG Mortgage Investment Trust, Inc.          USA   \n",
       "3           3   606729.0  AG Mortgage Investment Trust, Inc.          USA   \n",
       "4           4   606476.0                  AMC Networks, Inc.          USA   \n",
       "\n",
       "  ticker      CUSIP  MeetingID MeetingType  Recorddate     sponsor  ...  \\\n",
       "0    ADT  00090Q103  1259397.0      Annual  2018-07-31  Management  ...   \n",
       "1    ADT  00090Q103  1259397.0      Annual  2018-07-31  Management  ...   \n",
       "2   MITT  001228105  1213752.0      Annual  2018-03-07  Management  ...   \n",
       "3   MITT  001228105  1213752.0      Annual  2018-03-07  Management  ...   \n",
       "4   AMCX  00164V103  1233374.0      Annual  2018-04-17  Management  ...   \n",
       "\n",
       "  VotesForAsSharesOut VotesForAsVotesCast VotesForAsYesNo  ProposalText  \\\n",
       "0                 NaN                 NaN             NaN           NaN   \n",
       "1                 NaN                 NaN             NaN           NaN   \n",
       "2                 NaN                 NaN             NaN           NaN   \n",
       "3                 NaN                 NaN             NaN           NaN   \n",
       "4                 NaN                 NaN             NaN           NaN   \n",
       "\n",
       "  WithholdNotes  ProponentStatementOnProposal year month  day       _merge  \n",
       "0           NaN                           NaN  NaN   NaN  NaN  matched (3)  \n",
       "1           NaN                           NaN  NaN   NaN  NaN  matched (3)  \n",
       "2           NaN                           NaN  NaN   NaN  NaN  matched (3)  \n",
       "3           NaN                           NaN  NaN   NaN  NaN  matched (3)  \n",
       "4           NaN                           NaN  NaN   NaN  NaN  matched (3)  \n",
       "\n",
       "[5 rows x 54 columns]"
      ]
     },
     "execution_count": 2,
     "metadata": {},
     "output_type": "execute_result"
    }
   ],
   "source": [
    "ISS30=ISS[0:30]\n",
    "ISS30=pd.DataFrame(ISS30)\n",
    "ISS30.head()"
   ]
  },
  {
   "cell_type": "markdown",
   "metadata": {},
   "source": [
    "# Data cleaning, filtering suspected same variables, building a new database"
   ]
  },
  {
   "cell_type": "code",
   "execution_count": 3,
   "metadata": {},
   "outputs": [
    {
     "name": "stdout",
     "output_type": "stream",
     "text": [
      "ItemDesc AgendaGeneralDesc\n",
      "MGMTrec voteResult\n",
      "MGMTrec ISSrec\n",
      "voteResult ISSrec\n",
      "votedFor votedAgainst\n",
      "votedFor firstobs\n",
      "votedAgainst firstobs\n"
     ]
    }
   ],
   "source": [
    "pv1 = []\n",
    "pv2 = []\n",
    "n = ISS30.shape[1]\n",
    "for i in range(0, n): \n",
    "    for j in range(i + 1, n):\n",
    "        b1 = ISS30.iloc[:, i]\n",
    "        b2 = ISS30.iloc[:, j]\n",
    "        a=b1==b2\n",
    "        a1 = ISS30.columns[i]\n",
    "        a2 = ISS30.columns[j]\n",
    "        b=pd.DataFrame(a.describe())\n",
    "        c=b.T[\"top\"]\n",
    "        c=pd.DataFrame(c)\n",
    "        c=c.iloc[0,0]\n",
    "        if c == True:\n",
    "            print(a1,a2)            "
   ]
  },
  {
   "cell_type": "code",
   "execution_count": 4,
   "metadata": {},
   "outputs": [],
   "source": [
    "New_ISS30 = ISS30.drop(['AgendaGeneralDesc'], axis=1, inplace=False)"
   ]
  },
  {
   "cell_type": "code",
   "execution_count": 5,
   "metadata": {},
   "outputs": [
    {
     "data": {
      "text/html": [
       "<div>\n",
       "<style scoped>\n",
       "    .dataframe tbody tr th:only-of-type {\n",
       "        vertical-align: middle;\n",
       "    }\n",
       "\n",
       "    .dataframe tbody tr th {\n",
       "        vertical-align: top;\n",
       "    }\n",
       "\n",
       "    .dataframe thead th {\n",
       "        text-align: right;\n",
       "    }\n",
       "</style>\n",
       "<table border=\"1\" class=\"dataframe\">\n",
       "  <thead>\n",
       "    <tr style=\"text-align: right;\">\n",
       "      <th></th>\n",
       "      <th>Unnamed: 0</th>\n",
       "      <th>CompanyID</th>\n",
       "      <th>Name</th>\n",
       "      <th>CountryOfInc</th>\n",
       "      <th>ticker</th>\n",
       "      <th>CUSIP</th>\n",
       "      <th>MeetingID</th>\n",
       "      <th>MeetingType</th>\n",
       "      <th>Recorddate</th>\n",
       "      <th>sponsor</th>\n",
       "      <th>...</th>\n",
       "      <th>VotesForAsSharesOut</th>\n",
       "      <th>VotesForAsVotesCast</th>\n",
       "      <th>VotesForAsYesNo</th>\n",
       "      <th>ProposalText</th>\n",
       "      <th>WithholdNotes</th>\n",
       "      <th>ProponentStatementOnProposal</th>\n",
       "      <th>year</th>\n",
       "      <th>month</th>\n",
       "      <th>day</th>\n",
       "      <th>_merge</th>\n",
       "    </tr>\n",
       "  </thead>\n",
       "  <tbody>\n",
       "    <tr>\n",
       "      <th>0</th>\n",
       "      <td>0</td>\n",
       "      <td>656080.0</td>\n",
       "      <td>ADT, Inc.</td>\n",
       "      <td>USA</td>\n",
       "      <td>ADT</td>\n",
       "      <td>00090Q103</td>\n",
       "      <td>1259397.0</td>\n",
       "      <td>Annual</td>\n",
       "      <td>2018-07-31</td>\n",
       "      <td>Management</td>\n",
       "      <td>...</td>\n",
       "      <td>NaN</td>\n",
       "      <td>NaN</td>\n",
       "      <td>NaN</td>\n",
       "      <td>NaN</td>\n",
       "      <td>NaN</td>\n",
       "      <td>NaN</td>\n",
       "      <td>NaN</td>\n",
       "      <td>NaN</td>\n",
       "      <td>NaN</td>\n",
       "      <td>matched (3)</td>\n",
       "    </tr>\n",
       "    <tr>\n",
       "      <th>1</th>\n",
       "      <td>1</td>\n",
       "      <td>656080.0</td>\n",
       "      <td>ADT, Inc.</td>\n",
       "      <td>USA</td>\n",
       "      <td>ADT</td>\n",
       "      <td>00090Q103</td>\n",
       "      <td>1259397.0</td>\n",
       "      <td>Annual</td>\n",
       "      <td>2018-07-31</td>\n",
       "      <td>Management</td>\n",
       "      <td>...</td>\n",
       "      <td>NaN</td>\n",
       "      <td>NaN</td>\n",
       "      <td>NaN</td>\n",
       "      <td>NaN</td>\n",
       "      <td>NaN</td>\n",
       "      <td>NaN</td>\n",
       "      <td>NaN</td>\n",
       "      <td>NaN</td>\n",
       "      <td>NaN</td>\n",
       "      <td>matched (3)</td>\n",
       "    </tr>\n",
       "    <tr>\n",
       "      <th>2</th>\n",
       "      <td>2</td>\n",
       "      <td>606729.0</td>\n",
       "      <td>AG Mortgage Investment Trust, Inc.</td>\n",
       "      <td>USA</td>\n",
       "      <td>MITT</td>\n",
       "      <td>001228105</td>\n",
       "      <td>1213752.0</td>\n",
       "      <td>Annual</td>\n",
       "      <td>2018-03-07</td>\n",
       "      <td>Management</td>\n",
       "      <td>...</td>\n",
       "      <td>NaN</td>\n",
       "      <td>NaN</td>\n",
       "      <td>NaN</td>\n",
       "      <td>NaN</td>\n",
       "      <td>NaN</td>\n",
       "      <td>NaN</td>\n",
       "      <td>NaN</td>\n",
       "      <td>NaN</td>\n",
       "      <td>NaN</td>\n",
       "      <td>matched (3)</td>\n",
       "    </tr>\n",
       "    <tr>\n",
       "      <th>3</th>\n",
       "      <td>3</td>\n",
       "      <td>606729.0</td>\n",
       "      <td>AG Mortgage Investment Trust, Inc.</td>\n",
       "      <td>USA</td>\n",
       "      <td>MITT</td>\n",
       "      <td>001228105</td>\n",
       "      <td>1213752.0</td>\n",
       "      <td>Annual</td>\n",
       "      <td>2018-03-07</td>\n",
       "      <td>Management</td>\n",
       "      <td>...</td>\n",
       "      <td>NaN</td>\n",
       "      <td>NaN</td>\n",
       "      <td>NaN</td>\n",
       "      <td>NaN</td>\n",
       "      <td>NaN</td>\n",
       "      <td>NaN</td>\n",
       "      <td>NaN</td>\n",
       "      <td>NaN</td>\n",
       "      <td>NaN</td>\n",
       "      <td>matched (3)</td>\n",
       "    </tr>\n",
       "    <tr>\n",
       "      <th>4</th>\n",
       "      <td>4</td>\n",
       "      <td>606476.0</td>\n",
       "      <td>AMC Networks, Inc.</td>\n",
       "      <td>USA</td>\n",
       "      <td>AMCX</td>\n",
       "      <td>00164V103</td>\n",
       "      <td>1233374.0</td>\n",
       "      <td>Annual</td>\n",
       "      <td>2018-04-17</td>\n",
       "      <td>Management</td>\n",
       "      <td>...</td>\n",
       "      <td>NaN</td>\n",
       "      <td>NaN</td>\n",
       "      <td>NaN</td>\n",
       "      <td>NaN</td>\n",
       "      <td>NaN</td>\n",
       "      <td>NaN</td>\n",
       "      <td>NaN</td>\n",
       "      <td>NaN</td>\n",
       "      <td>NaN</td>\n",
       "      <td>matched (3)</td>\n",
       "    </tr>\n",
       "  </tbody>\n",
       "</table>\n",
       "<p>5 rows × 53 columns</p>\n",
       "</div>"
      ],
      "text/plain": [
       "   Unnamed: 0  CompanyID                                Name CountryOfInc  \\\n",
       "0           0   656080.0                           ADT, Inc.          USA   \n",
       "1           1   656080.0                           ADT, Inc.          USA   \n",
       "2           2   606729.0  AG Mortgage Investment Trust, Inc.          USA   \n",
       "3           3   606729.0  AG Mortgage Investment Trust, Inc.          USA   \n",
       "4           4   606476.0                  AMC Networks, Inc.          USA   \n",
       "\n",
       "  ticker      CUSIP  MeetingID MeetingType  Recorddate     sponsor  ...  \\\n",
       "0    ADT  00090Q103  1259397.0      Annual  2018-07-31  Management  ...   \n",
       "1    ADT  00090Q103  1259397.0      Annual  2018-07-31  Management  ...   \n",
       "2   MITT  001228105  1213752.0      Annual  2018-03-07  Management  ...   \n",
       "3   MITT  001228105  1213752.0      Annual  2018-03-07  Management  ...   \n",
       "4   AMCX  00164V103  1233374.0      Annual  2018-04-17  Management  ...   \n",
       "\n",
       "  VotesForAsSharesOut VotesForAsVotesCast VotesForAsYesNo  ProposalText  \\\n",
       "0                 NaN                 NaN             NaN           NaN   \n",
       "1                 NaN                 NaN             NaN           NaN   \n",
       "2                 NaN                 NaN             NaN           NaN   \n",
       "3                 NaN                 NaN             NaN           NaN   \n",
       "4                 NaN                 NaN             NaN           NaN   \n",
       "\n",
       "  WithholdNotes  ProponentStatementOnProposal year  month day       _merge  \n",
       "0           NaN                           NaN  NaN    NaN NaN  matched (3)  \n",
       "1           NaN                           NaN  NaN    NaN NaN  matched (3)  \n",
       "2           NaN                           NaN  NaN    NaN NaN  matched (3)  \n",
       "3           NaN                           NaN  NaN    NaN NaN  matched (3)  \n",
       "4           NaN                           NaN  NaN    NaN NaN  matched (3)  \n",
       "\n",
       "[5 rows x 53 columns]"
      ]
     },
     "execution_count": 5,
     "metadata": {},
     "output_type": "execute_result"
    }
   ],
   "source": [
    "New_ISS30.head()"
   ]
  },
  {
   "cell_type": "markdown",
   "metadata": {},
   "source": [
    "# Analyze another database"
   ]
  },
  {
   "cell_type": "code",
   "execution_count": 6,
   "metadata": {},
   "outputs": [],
   "source": [
    "import pandas as pd \n",
    "import numpy as np\n",
    "Factset=pd.read_csv(\"Factset.csv\")"
   ]
  },
  {
   "cell_type": "code",
   "execution_count": 7,
   "metadata": {},
   "outputs": [
    {
     "data": {
      "text/html": [
       "<div>\n",
       "<style scoped>\n",
       "    .dataframe tbody tr th:only-of-type {\n",
       "        vertical-align: middle;\n",
       "    }\n",
       "\n",
       "    .dataframe tbody tr th {\n",
       "        vertical-align: top;\n",
       "    }\n",
       "\n",
       "    .dataframe thead th {\n",
       "        text-align: right;\n",
       "    }\n",
       "</style>\n",
       "<table border=\"1\" class=\"dataframe\">\n",
       "  <thead>\n",
       "    <tr style=\"text-align: right;\">\n",
       "      <th></th>\n",
       "      <th>Unnamed: 0</th>\n",
       "      <th>Symbol</th>\n",
       "      <th>string_MeetingDate</th>\n",
       "      <th>CompanyName</th>\n",
       "      <th>Ticker</th>\n",
       "      <th>CompanyState</th>\n",
       "      <th>ProxyProposal</th>\n",
       "      <th>ProposalBroughtby</th>\n",
       "      <th>ProponentName</th>\n",
       "      <th>ProxyProposalResult</th>\n",
       "      <th>...</th>\n",
       "      <th>outstandingShare</th>\n",
       "      <th>votedAgainst</th>\n",
       "      <th>votedAbstain</th>\n",
       "      <th>brokerNonVote</th>\n",
       "      <th>VotedWithheld</th>\n",
       "      <th>votes1yr</th>\n",
       "      <th>votes2yr</th>\n",
       "      <th>votes3yr</th>\n",
       "      <th>ISSrec</th>\n",
       "      <th>length_cusip</th>\n",
       "    </tr>\n",
       "  </thead>\n",
       "  <tbody>\n",
       "    <tr>\n",
       "      <th>0</th>\n",
       "      <td>0</td>\n",
       "      <td>12144273319P</td>\n",
       "      <td>20180921</td>\n",
       "      <td>ADT, Inc.</td>\n",
       "      <td>ADT-US</td>\n",
       "      <td>Delaware</td>\n",
       "      <td>Management Proposed Advisory Vote on the Frequ...</td>\n",
       "      <td>Management</td>\n",
       "      <td>@NA</td>\n",
       "      <td>Pass</td>\n",
       "      <td>...</td>\n",
       "      <td>NaN</td>\n",
       "      <td>NaN</td>\n",
       "      <td>NaN</td>\n",
       "      <td>NaN</td>\n",
       "      <td>NaN</td>\n",
       "      <td>NaN</td>\n",
       "      <td>NaN</td>\n",
       "      <td>NaN</td>\n",
       "      <td>NaN</td>\n",
       "      <td>NaN</td>\n",
       "    </tr>\n",
       "    <tr>\n",
       "      <th>1</th>\n",
       "      <td>1</td>\n",
       "      <td>12144193206P</td>\n",
       "      <td>20180502</td>\n",
       "      <td>AG Mortgage Investment Trust, Inc.</td>\n",
       "      <td>MITT-US</td>\n",
       "      <td>Maryland</td>\n",
       "      <td>Management Proposed Advisory Vote on the Frequ...</td>\n",
       "      <td>Management</td>\n",
       "      <td>@NA</td>\n",
       "      <td>Pass</td>\n",
       "      <td>...</td>\n",
       "      <td>NaN</td>\n",
       "      <td>NaN</td>\n",
       "      <td>NaN</td>\n",
       "      <td>NaN</td>\n",
       "      <td>NaN</td>\n",
       "      <td>NaN</td>\n",
       "      <td>NaN</td>\n",
       "      <td>NaN</td>\n",
       "      <td>NaN</td>\n",
       "      <td>NaN</td>\n",
       "    </tr>\n",
       "    <tr>\n",
       "      <th>2</th>\n",
       "      <td>2</td>\n",
       "      <td>12144200690P</td>\n",
       "      <td>20180612</td>\n",
       "      <td>AMC Networks Inc.</td>\n",
       "      <td>AMCX-US</td>\n",
       "      <td>Delaware</td>\n",
       "      <td>Management Proposed Advisory Vote on the Frequ...</td>\n",
       "      <td>Management</td>\n",
       "      <td>@NA</td>\n",
       "      <td>Pass</td>\n",
       "      <td>...</td>\n",
       "      <td>NaN</td>\n",
       "      <td>NaN</td>\n",
       "      <td>NaN</td>\n",
       "      <td>NaN</td>\n",
       "      <td>NaN</td>\n",
       "      <td>NaN</td>\n",
       "      <td>NaN</td>\n",
       "      <td>NaN</td>\n",
       "      <td>NaN</td>\n",
       "      <td>NaN</td>\n",
       "    </tr>\n",
       "    <tr>\n",
       "      <th>3</th>\n",
       "      <td>3</td>\n",
       "      <td>12144160364P</td>\n",
       "      <td>20170601</td>\n",
       "      <td>AV Homes, Inc.</td>\n",
       "      <td>AVHI-US</td>\n",
       "      <td>Delaware</td>\n",
       "      <td>Management Proposed Advisory Vote on the Frequ...</td>\n",
       "      <td>Management</td>\n",
       "      <td>@NA</td>\n",
       "      <td>Pass</td>\n",
       "      <td>...</td>\n",
       "      <td>NaN</td>\n",
       "      <td>NaN</td>\n",
       "      <td>NaN</td>\n",
       "      <td>NaN</td>\n",
       "      <td>NaN</td>\n",
       "      <td>NaN</td>\n",
       "      <td>NaN</td>\n",
       "      <td>NaN</td>\n",
       "      <td>NaN</td>\n",
       "      <td>NaN</td>\n",
       "    </tr>\n",
       "    <tr>\n",
       "      <th>4</th>\n",
       "      <td>4</td>\n",
       "      <td>12144193055P</td>\n",
       "      <td>20180504</td>\n",
       "      <td>AbbVie Inc.</td>\n",
       "      <td>ABBV-US</td>\n",
       "      <td>Delaware</td>\n",
       "      <td>Management Proposed Advisory Vote on the Frequ...</td>\n",
       "      <td>Management</td>\n",
       "      <td>@NA</td>\n",
       "      <td>Pass</td>\n",
       "      <td>...</td>\n",
       "      <td>NaN</td>\n",
       "      <td>NaN</td>\n",
       "      <td>NaN</td>\n",
       "      <td>NaN</td>\n",
       "      <td>NaN</td>\n",
       "      <td>NaN</td>\n",
       "      <td>NaN</td>\n",
       "      <td>NaN</td>\n",
       "      <td>NaN</td>\n",
       "      <td>NaN</td>\n",
       "    </tr>\n",
       "  </tbody>\n",
       "</table>\n",
       "<p>5 rows × 53 columns</p>\n",
       "</div>"
      ],
      "text/plain": [
       "   Unnamed: 0        Symbol  string_MeetingDate  \\\n",
       "0           0  12144273319P            20180921   \n",
       "1           1  12144193206P            20180502   \n",
       "2           2  12144200690P            20180612   \n",
       "3           3  12144160364P            20170601   \n",
       "4           4  12144193055P            20180504   \n",
       "\n",
       "                          CompanyName   Ticker CompanyState  \\\n",
       "0                           ADT, Inc.   ADT-US     Delaware   \n",
       "1  AG Mortgage Investment Trust, Inc.  MITT-US     Maryland   \n",
       "2                   AMC Networks Inc.  AMCX-US     Delaware   \n",
       "3                      AV Homes, Inc.  AVHI-US     Delaware   \n",
       "4                         AbbVie Inc.  ABBV-US     Delaware   \n",
       "\n",
       "                                       ProxyProposal ProposalBroughtby  \\\n",
       "0  Management Proposed Advisory Vote on the Frequ...        Management   \n",
       "1  Management Proposed Advisory Vote on the Frequ...        Management   \n",
       "2  Management Proposed Advisory Vote on the Frequ...        Management   \n",
       "3  Management Proposed Advisory Vote on the Frequ...        Management   \n",
       "4  Management Proposed Advisory Vote on the Frequ...        Management   \n",
       "\n",
       "  ProponentName ProxyProposalResult  ... outstandingShare  votedAgainst  \\\n",
       "0           @NA                Pass  ...              NaN           NaN   \n",
       "1           @NA                Pass  ...              NaN           NaN   \n",
       "2           @NA                Pass  ...              NaN           NaN   \n",
       "3           @NA                Pass  ...              NaN           NaN   \n",
       "4           @NA                Pass  ...              NaN           NaN   \n",
       "\n",
       "   votedAbstain  brokerNonVote VotedWithheld  votes1yr votes2yr votes3yr  \\\n",
       "0           NaN            NaN           NaN       NaN      NaN      NaN   \n",
       "1           NaN            NaN           NaN       NaN      NaN      NaN   \n",
       "2           NaN            NaN           NaN       NaN      NaN      NaN   \n",
       "3           NaN            NaN           NaN       NaN      NaN      NaN   \n",
       "4           NaN            NaN           NaN       NaN      NaN      NaN   \n",
       "\n",
       "  ISSrec  length_cusip  \n",
       "0    NaN           NaN  \n",
       "1    NaN           NaN  \n",
       "2    NaN           NaN  \n",
       "3    NaN           NaN  \n",
       "4    NaN           NaN  \n",
       "\n",
       "[5 rows x 53 columns]"
      ]
     },
     "execution_count": 7,
     "metadata": {},
     "output_type": "execute_result"
    }
   ],
   "source": [
    "Factset30=Factset[0:30]\n",
    "Factset30=pd.DataFrame(Factset30)\n",
    "Factset30.head()"
   ]
  },
  {
   "cell_type": "markdown",
   "metadata": {},
   "source": [
    "# Data cleaning, filtering suspected same variables, building a new database"
   ]
  },
  {
   "cell_type": "code",
   "execution_count": 8,
   "metadata": {},
   "outputs": [
    {
     "name": "stdout",
     "output_type": "stream",
     "text": [
      "ProponentName WithholdNotes\n",
      "ProponentName ProponentStatementOnProposal\n",
      "VotesForAsSharesOut VotesForAsVotesCast\n",
      "WithholdNotes ProponentStatementOnProposal\n"
     ]
    }
   ],
   "source": [
    "pv1 = [] \n",
    "pv2 = []\n",
    "n = Factset30.shape[1] \n",
    "for i in range(0, n): \n",
    "    for j in range(i + 1, n):\n",
    "        b1 = Factset30.iloc[:, i]\n",
    "        b2 = Factset30.iloc[:, j]\n",
    "        a=b1==b2\n",
    "        a1 = Factset30.columns[i]\n",
    "        a2 = Factset30.columns[j]\n",
    "        b=pd.DataFrame(a.describe())\n",
    "        c=b.T[\"top\"]\n",
    "        c=pd.DataFrame(c)\n",
    "        c=c.iloc[0,0]\n",
    "        if c == True:\n",
    "            print(a1,a2)"
   ]
  },
  {
   "cell_type": "markdown",
   "metadata": {},
   "source": [
    "## The suspected similar variables are described to analyze whether the variables are consistent"
   ]
  },
  {
   "cell_type": "code",
   "execution_count": 9,
   "metadata": {},
   "outputs": [
    {
     "data": {
      "text/plain": [
       "count     1874\n",
       "unique       1\n",
       "top        @NA\n",
       "freq      1874\n",
       "Name: ProponentName, dtype: object"
      ]
     },
     "execution_count": 9,
     "metadata": {},
     "output_type": "execute_result"
    }
   ],
   "source": [
    "Factset.ProponentName.describe()"
   ]
  },
  {
   "cell_type": "code",
   "execution_count": 10,
   "metadata": {},
   "outputs": [
    {
     "data": {
      "text/plain": [
       "count     1874\n",
       "unique       3\n",
       "top        @NA\n",
       "freq      1872\n",
       "Name: WithholdNotes, dtype: object"
      ]
     },
     "execution_count": 10,
     "metadata": {},
     "output_type": "execute_result"
    }
   ],
   "source": [
    "Factset.WithholdNotes.describe()"
   ]
  },
  {
   "cell_type": "code",
   "execution_count": 11,
   "metadata": {},
   "outputs": [
    {
     "data": {
      "text/plain": [
       "count     1874\n",
       "unique       1\n",
       "top        @NA\n",
       "freq      1874\n",
       "Name: ProponentStatementOnProposal, dtype: object"
      ]
     },
     "execution_count": 11,
     "metadata": {},
     "output_type": "execute_result"
    }
   ],
   "source": [
    "Factset.ProponentStatementOnProposal.describe()"
   ]
  },
  {
   "cell_type": "code",
   "execution_count": 12,
   "metadata": {},
   "outputs": [
    {
     "data": {
      "text/plain": [
       "count    1874.0\n",
       "mean        0.0\n",
       "std         0.0\n",
       "min         0.0\n",
       "25%         0.0\n",
       "50%         0.0\n",
       "75%         0.0\n",
       "max         0.0\n",
       "Name: VotesForAsSharesOut, dtype: float64"
      ]
     },
     "execution_count": 12,
     "metadata": {},
     "output_type": "execute_result"
    }
   ],
   "source": [
    "Factset.VotesForAsSharesOut .describe()"
   ]
  },
  {
   "cell_type": "code",
   "execution_count": 13,
   "metadata": {},
   "outputs": [
    {
     "data": {
      "text/plain": [
       "count    1874.0\n",
       "mean        0.0\n",
       "std         0.0\n",
       "min         0.0\n",
       "25%         0.0\n",
       "50%         0.0\n",
       "75%         0.0\n",
       "max         0.0\n",
       "Name: VotesForAsVotesCast, dtype: float64"
      ]
     },
     "execution_count": 13,
     "metadata": {},
     "output_type": "execute_result"
    }
   ],
   "source": [
    "Factset.VotesForAsVotesCast.describe()"
   ]
  },
  {
   "cell_type": "code",
   "execution_count": 14,
   "metadata": {},
   "outputs": [
    {
     "data": {
      "text/plain": [
       "count     1874\n",
       "unique       3\n",
       "top        @NA\n",
       "freq      1872\n",
       "Name: WithholdNotes, dtype: object"
      ]
     },
     "execution_count": 14,
     "metadata": {},
     "output_type": "execute_result"
    }
   ],
   "source": [
    "Factset.WithholdNotes.describe()"
   ]
  },
  {
   "cell_type": "code",
   "execution_count": 15,
   "metadata": {},
   "outputs": [
    {
     "data": {
      "text/plain": [
       "count     1874\n",
       "unique       1\n",
       "top        @NA\n",
       "freq      1874\n",
       "Name: ProponentStatementOnProposal, dtype: object"
      ]
     },
     "execution_count": 15,
     "metadata": {},
     "output_type": "execute_result"
    }
   ],
   "source": [
    "Factset.ProponentStatementOnProposal.describe()"
   ]
  },
  {
   "cell_type": "markdown",
   "metadata": {},
   "source": [
    "发现VotesForAsSharesOut和VotesForAsVotesCast全为0，可据实际情况删除"
   ]
  },
  {
   "cell_type": "markdown",
   "metadata": {},
   "source": [
    "# Final processing of data merge"
   ]
  },
  {
   "cell_type": "markdown",
   "metadata": {},
   "source": [
    "## Load the module and convert the data"
   ]
  },
  {
   "cell_type": "code",
   "execution_count": 16,
   "metadata": {},
   "outputs": [
    {
     "name": "stdout",
     "output_type": "stream",
     "text": [
      "3183\n",
      "1874\n"
     ]
    }
   ],
   "source": [
    "import pandas as pd\n",
    "import numpy as np\n",
    "\n",
    "Factset = pd.io.stata.read_stata('Factset.dta')\n",
    "ISS = pd.io.stata.read_stata('ISS.dta')\n",
    "Factset.to_csv('Factset.csv') \n",
    "ISS.to_csv('ISS.csv') \n",
    "\n",
    "ISS = pd.read_csv(\"ISS.csv\")\n",
    "Factset = pd.read_csv(\"Factset.csv\")\n",
    "ISS = pd.DataFrame(ISS)  \n",
    "\n",
    "Factset = pd.DataFrame(Factset)\n",
    "\n",
    "print(ISS.shape[0])\n",
    "print(Factset.shape[0])"
   ]
  },
  {
   "cell_type": "markdown",
   "metadata": {},
   "source": [
    "## View and process ISS data sets"
   ]
  },
  {
   "cell_type": "code",
   "execution_count": 17,
   "metadata": {},
   "outputs": [
    {
     "data": {
      "text/plain": [
       "Index(['Unnamed: 0', 'CompanyID', 'Name', 'CountryOfInc', 'ticker', 'CUSIP',\n",
       "       'MeetingID', 'MeetingType', 'Recorddate', 'sponsor', 'ISSAgendaItemID',\n",
       "       'ItemDesc', 'BallotItemNumber', 'SeqNumber', 'MGMTrec',\n",
       "       'voteRequirement', 'AgendaGeneralDesc', 'MeetingDate', 'itemOnAgendaID',\n",
       "       'base', 'voteResult', 'outstandingShare', 'votedFor', 'votedAgainst',\n",
       "       'votedAbstain', 'brokerNonVote', 'VotedWithheld', 'votes1yr',\n",
       "       'votes2yr', 'votes3yr', 'ISSrec', 'length_cusip', 'firstobs',\n",
       "       'proposals', 'Symbol', 'string_MeetingDate', 'CompanyName', 'Ticker',\n",
       "       'CompanyState', 'ProxyProposal', 'ProposalBroughtby', 'ProponentName',\n",
       "       'ProxyProposalResult', 'ProposalinProxy', 'VotesForAsSharesOut',\n",
       "       'VotesForAsVotesCast', 'VotesForAsYesNo', 'ProposalText',\n",
       "       'WithholdNotes', 'ProponentStatementOnProposal', 'year', 'month', 'day',\n",
       "       '_merge'],\n",
       "      dtype='object')"
      ]
     },
     "execution_count": 17,
     "metadata": {},
     "output_type": "execute_result"
    }
   ],
   "source": [
    "n_ISS = ISS.shape[1] \n",
    "ISS_name = ISS.columns[0:n_ISS] \n",
    "ISS_name"
   ]
  },
  {
   "cell_type": "code",
   "execution_count": 18,
   "metadata": {},
   "outputs": [],
   "source": [
    "ISS.drop(columns=['AgendaGeneralDesc'],inplace = True)"
   ]
  },
  {
   "cell_type": "code",
   "execution_count": 19,
   "metadata": {},
   "outputs": [
    {
     "data": {
      "text/plain": [
       "count    0.0\n",
       "mean     NaN\n",
       "std      NaN\n",
       "min      NaN\n",
       "25%      NaN\n",
       "50%      NaN\n",
       "75%      NaN\n",
       "max      NaN\n",
       "Name: ProxyProposal, dtype: float64"
      ]
     },
     "execution_count": 19,
     "metadata": {},
     "output_type": "execute_result"
    }
   ],
   "source": [
    "ISS.ProxyProposal.describe()"
   ]
  },
  {
   "cell_type": "code",
   "execution_count": 20,
   "metadata": {},
   "outputs": [],
   "source": [
    "ISS.drop(columns=['ProxyProposal'],inplace = True)"
   ]
  },
  {
   "cell_type": "code",
   "execution_count": 21,
   "metadata": {},
   "outputs": [
    {
     "data": {
      "text/plain": [
       "Index(['Unnamed: 0', 'CompanyID', 'Name', 'CountryOfInc', 'ticker', 'CUSIP',\n",
       "       'MeetingID', 'MeetingType', 'Recorddate', 'sponsor', 'ISSAgendaItemID',\n",
       "       'ItemDesc', 'BallotItemNumber', 'SeqNumber', 'MGMTrec',\n",
       "       'voteRequirement', 'MeetingDate', 'itemOnAgendaID', 'base',\n",
       "       'voteResult', 'outstandingShare', 'votedFor', 'votedAgainst',\n",
       "       'votedAbstain', 'brokerNonVote', 'VotedWithheld', 'votes1yr',\n",
       "       'votes2yr', 'votes3yr', 'ISSrec', 'length_cusip', 'firstobs',\n",
       "       'proposals', 'Symbol', 'string_MeetingDate', 'CompanyName', 'Ticker',\n",
       "       'CompanyState', 'ProposalBroughtby', 'ProponentName',\n",
       "       'ProxyProposalResult', 'ProposalinProxy', 'VotesForAsSharesOut',\n",
       "       'VotesForAsVotesCast', 'VotesForAsYesNo', 'ProposalText',\n",
       "       'WithholdNotes', 'ProponentStatementOnProposal', 'year', 'month', 'day',\n",
       "       '_merge'],\n",
       "      dtype='object')"
      ]
     },
     "execution_count": 21,
     "metadata": {},
     "output_type": "execute_result"
    }
   ],
   "source": [
    "n_ISS = ISS.shape[1] \n",
    "ISS_name = ISS.columns[0:n_ISS] \n",
    "ISS_name"
   ]
  },
  {
   "cell_type": "markdown",
   "metadata": {},
   "source": [
    "## View and process Factset data sets"
   ]
  },
  {
   "cell_type": "code",
   "execution_count": 22,
   "metadata": {},
   "outputs": [
    {
     "data": {
      "text/plain": [
       "Index(['Unnamed: 0', 'Symbol', 'string_MeetingDate', 'CompanyName', 'Ticker',\n",
       "       'CompanyState', 'ProxyProposal', 'ProposalBroughtby', 'ProponentName',\n",
       "       'ProxyProposalResult', 'ProposalinProxy', 'VotesForAsSharesOut',\n",
       "       'VotesForAsVotesCast', 'VotesForAsYesNo', 'ProposalText', 'votedFor',\n",
       "       'CUSIP', 'WithholdNotes', 'ProponentStatementOnProposal', 'year',\n",
       "       'month', 'day', 'MeetingDate', 'firstobs', 'proposals', 'CompanyID',\n",
       "       'Name', 'CountryOfInc', 'ticker', 'MeetingID', 'MeetingType',\n",
       "       'Recorddate', 'sponsor', 'ISSAgendaItemID', 'ItemDesc',\n",
       "       'BallotItemNumber', 'SeqNumber', 'MGMTrec', 'voteRequirement',\n",
       "       'AgendaGeneralDesc', 'itemOnAgendaID', 'base', 'voteResult',\n",
       "       'outstandingShare', 'votedAgainst', 'votedAbstain', 'brokerNonVote',\n",
       "       'VotedWithheld', 'votes1yr', 'votes2yr', 'votes3yr', 'ISSrec'],\n",
       "      dtype='object')"
      ]
     },
     "execution_count": 22,
     "metadata": {},
     "output_type": "execute_result"
    }
   ],
   "source": [
    "n_Factset = Factset.shape[1]\n",
    "Factset_name = Factset.columns[0:n_ISS] \n",
    "Factset_name"
   ]
  },
  {
   "cell_type": "code",
   "execution_count": 23,
   "metadata": {},
   "outputs": [
    {
     "data": {
      "text/plain": [
       "count    0.0\n",
       "mean     NaN\n",
       "std      NaN\n",
       "min      NaN\n",
       "25%      NaN\n",
       "50%      NaN\n",
       "75%      NaN\n",
       "max      NaN\n",
       "Name: AgendaGeneralDesc, dtype: float64"
      ]
     },
     "execution_count": 23,
     "metadata": {},
     "output_type": "execute_result"
    }
   ],
   "source": [
    "Factset.ItemDesc.describe()\n",
    "Factset.AgendaGeneralDesc.describe()"
   ]
  },
  {
   "cell_type": "code",
   "execution_count": 24,
   "metadata": {},
   "outputs": [],
   "source": [
    "Factset.drop(columns=['ItemDesc'],inplace = True)\n",
    "Factset.drop(columns=['AgendaGeneralDesc'],inplace = True)"
   ]
  },
  {
   "cell_type": "code",
   "execution_count": 25,
   "metadata": {},
   "outputs": [
    {
     "data": {
      "text/plain": [
       "count    0.0\n",
       "mean     NaN\n",
       "std      NaN\n",
       "min      NaN\n",
       "25%      NaN\n",
       "50%      NaN\n",
       "75%      NaN\n",
       "max      NaN\n",
       "Name: Name, dtype: float64"
      ]
     },
     "execution_count": 25,
     "metadata": {},
     "output_type": "execute_result"
    }
   ],
   "source": [
    "Factset.Name.describe()"
   ]
  },
  {
   "cell_type": "code",
   "execution_count": 26,
   "metadata": {},
   "outputs": [],
   "source": [
    "Factset.drop(columns=['Name'],inplace = True)"
   ]
  },
  {
   "cell_type": "code",
   "execution_count": 28,
   "metadata": {},
   "outputs": [
    {
     "data": {
      "text/plain": [
       "Index(['Unnamed: 0', 'Symbol', 'string_MeetingDate', 'Name', 'Ticker',\n",
       "       'CompanyState', 'ItemDesc', 'ProposalBroughtby', 'ProponentName',\n",
       "       'ProxyProposalResult', 'ProposalinProxy', 'VotesForAsSharesOut',\n",
       "       'VotesForAsVotesCast', 'VotesForAsYesNo', 'ProposalText', 'votedFor',\n",
       "       'CUSIP', 'WithholdNotes', 'ProponentStatementOnProposal', 'year',\n",
       "       'month', 'day', 'MeetingDate', 'firstobs', 'proposals', 'CompanyID',\n",
       "       'CountryOfInc', 'ticker', 'MeetingID', 'MeetingType', 'Recorddate',\n",
       "       'sponsor', 'ISSAgendaItemID', 'BallotItemNumber', 'SeqNumber',\n",
       "       'MGMTrec', 'voteRequirement', 'itemOnAgendaID', 'base', 'voteResult',\n",
       "       'outstandingShare', 'votedAgainst', 'votedAbstain', 'brokerNonVote',\n",
       "       'VotedWithheld', 'votes1yr', 'votes2yr', 'votes3yr', 'ISSrec',\n",
       "       'length_cusip'],\n",
       "      dtype='object')"
      ]
     },
     "execution_count": 28,
     "metadata": {},
     "output_type": "execute_result"
    }
   ],
   "source": [
    "\n",
    "Factset.rename(columns={'CompanyName':'Name','ProxyProposal':'ItemDesc'},inplace = True)\n",
    "n_Factset = Factset.shape[1] \n",
    "Factset_name = Factset.columns[0:n_Factset] \n",
    "Factset_name"
   ]
  },
  {
   "cell_type": "markdown",
   "metadata": {},
   "source": [
    "## merge data"
   ]
  },
  {
   "cell_type": "code",
   "execution_count": 29,
   "metadata": {},
   "outputs": [],
   "source": [
    "df=pd.concat([ISS,Factset],axis = 0,join = 'outer', ignore_index=False)"
   ]
  },
  {
   "cell_type": "markdown",
   "metadata": {},
   "source": [
    "### View the merged data set"
   ]
  },
  {
   "cell_type": "code",
   "execution_count": 30,
   "metadata": {},
   "outputs": [
    {
     "data": {
      "text/plain": [
       "0                   Advisory Vote on Say on Pay Frequency\n",
       "1                   Advisory Vote on Say on Pay Frequency\n",
       "2                   Advisory Vote on Say on Pay Frequency\n",
       "3                   Advisory Vote on Say on Pay Frequency\n",
       "4                   Advisory Vote on Say on Pay Frequency\n",
       "                              ...                        \n",
       "1869                       Approve Adjournment of Meeting\n",
       "1870                       Approve Adjournment of Meeting\n",
       "1871                       Approve Adjournment of Meeting\n",
       "1872    Management Proposed Advisory Vote on the Frequ...\n",
       "1873                            Reincorporate in Delaware\n",
       "Name: ItemDesc, Length: 5057, dtype: object"
      ]
     },
     "execution_count": 30,
     "metadata": {},
     "output_type": "execute_result"
    }
   ],
   "source": [
    "#查看合并数据的ItemDesc变量\n",
    "df.ItemDesc"
   ]
  },
  {
   "cell_type": "code",
   "execution_count": 31,
   "metadata": {},
   "outputs": [],
   "source": [
    "result_merge=df.to_csv('df.csv')"
   ]
  },
  {
   "cell_type": "code",
   "execution_count": 32,
   "metadata": {},
   "outputs": [
    {
     "name": "stderr",
     "output_type": "stream",
     "text": [
      "C:\\ProgramData\\Anaconda3\\lib\\site-packages\\ipykernel_launcher.py:1: SettingWithCopyWarning: \n",
      "A value is trying to be set on a copy of a slice from a DataFrame\n",
      "\n",
      "See the caveats in the documentation: https://pandas.pydata.org/pandas-docs/stable/user_guide/indexing.html#returning-a-view-versus-a-copy\n",
      "  \"\"\"Entry point for launching an IPython kernel.\n"
     ]
    }
   ],
   "source": [
    "df.ItemDesc[df['ItemDesc']=='Management Proposed Advisory Vote on the Frequency of Compensation Vote (say on pay frequency)']=\"Advisory Vote on Say on Pay Frequency\""
   ]
  },
  {
   "cell_type": "code",
   "execution_count": 33,
   "metadata": {},
   "outputs": [
    {
     "data": {
      "text/plain": [
       "0       Advisory Vote on Say on Pay Frequency\n",
       "1       Advisory Vote on Say on Pay Frequency\n",
       "2       Advisory Vote on Say on Pay Frequency\n",
       "3       Advisory Vote on Say on Pay Frequency\n",
       "4       Advisory Vote on Say on Pay Frequency\n",
       "                        ...                  \n",
       "1869           Approve Adjournment of Meeting\n",
       "1870           Approve Adjournment of Meeting\n",
       "1871           Approve Adjournment of Meeting\n",
       "1872    Advisory Vote on Say on Pay Frequency\n",
       "1873                Reincorporate in Delaware\n",
       "Name: ItemDesc, Length: 5057, dtype: object"
      ]
     },
     "execution_count": 33,
     "metadata": {},
     "output_type": "execute_result"
    }
   ],
   "source": [
    "df.ItemDesc"
   ]
  },
  {
   "cell_type": "code",
   "execution_count": 34,
   "metadata": {},
   "outputs": [],
   "source": [
    "result_merge=df.to_csv('df1.csv')"
   ]
  },
  {
   "cell_type": "code",
   "execution_count": 35,
   "metadata": {},
   "outputs": [
    {
     "data": {
      "text/plain": [
       "0       2018-09-21\n",
       "1       2018-09-21\n",
       "2       2018-05-02\n",
       "3       2018-05-02\n",
       "4       2018-06-12\n",
       "           ...    \n",
       "1869    2007-10-19\n",
       "1870    2014-05-29\n",
       "1871    2018-09-14\n",
       "1872    2011-06-08\n",
       "1873    2011-06-08\n",
       "Name: MeetingDate, Length: 5057, dtype: object"
      ]
     },
     "execution_count": 35,
     "metadata": {},
     "output_type": "execute_result"
    }
   ],
   "source": [
    "df.MeetingDate"
   ]
  },
  {
   "cell_type": "markdown",
   "metadata": {},
   "source": [
    "### To generate the ID"
   ]
  },
  {
   "cell_type": "code",
   "execution_count": 36,
   "metadata": {},
   "outputs": [],
   "source": [
    "df['combined_id'] = pd.factorize(df.Name+df.CUSIP+df.MeetingDate+df.ItemDesc)[0]"
   ]
  },
  {
   "cell_type": "code",
   "execution_count": 37,
   "metadata": {},
   "outputs": [
    {
     "data": {
      "text/plain": [
       "0       2018-09-21\n",
       "1       2018-09-21\n",
       "2       2018-05-02\n",
       "3       2018-05-02\n",
       "4       2018-06-12\n",
       "           ...    \n",
       "1869    2007-10-19\n",
       "1870    2014-05-29\n",
       "1871    2018-09-14\n",
       "1872    2011-06-08\n",
       "1873    2011-06-08\n",
       "Name: MeetingDate, Length: 5057, dtype: object"
      ]
     },
     "execution_count": 37,
     "metadata": {},
     "output_type": "execute_result"
    }
   ],
   "source": [
    "df.MeetingDate"
   ]
  },
  {
   "cell_type": "code",
   "execution_count": 38,
   "metadata": {},
   "outputs": [],
   "source": [
    "new_result_merge=df.to_csv('new_result_merge.csv')"
   ]
  }
 ],
 "metadata": {
  "kernelspec": {
   "display_name": "Python 3",
   "language": "python",
   "name": "python3"
  },
  "language_info": {
   "codemirror_mode": {
    "name": "ipython",
    "version": 3
   },
   "file_extension": ".py",
   "mimetype": "text/x-python",
   "name": "python",
   "nbconvert_exporter": "python",
   "pygments_lexer": "ipython3",
   "version": "3.7.6"
  },
  "toc": {
   "base_numbering": 1,
   "nav_menu": {},
   "number_sections": true,
   "sideBar": true,
   "skip_h1_title": false,
   "title_cell": "Table of Contents",
   "title_sidebar": "Contents",
   "toc_cell": false,
   "toc_position": {
    "height": "227.533px",
    "left": "481px",
    "top": "152.667px",
    "width": "352.763px"
   },
   "toc_section_display": true,
   "toc_window_display": true
  },
  "varInspector": {
   "cols": {
    "lenName": 16,
    "lenType": 16,
    "lenVar": 40
   },
   "kernels_config": {
    "python": {
     "delete_cmd_postfix": "",
     "delete_cmd_prefix": "del ",
     "library": "var_list.py",
     "varRefreshCmd": "print(var_dic_list())"
    },
    "r": {
     "delete_cmd_postfix": ") ",
     "delete_cmd_prefix": "rm(",
     "library": "var_list.r",
     "varRefreshCmd": "cat(var_dic_list()) "
    }
   },
   "types_to_exclude": [
    "module",
    "function",
    "builtin_function_or_method",
    "instance",
    "_Feature"
   ],
   "window_display": false
  }
 },
 "nbformat": 4,
 "nbformat_minor": 4
}
